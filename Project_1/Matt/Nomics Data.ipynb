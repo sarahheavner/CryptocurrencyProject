{
 "cells": [
  {
   "cell_type": "code",
   "execution_count": null,
   "metadata": {},
   "outputs": [],
   "source": [
    "import matplotlib.pyplot as plt\n",
    "import pandas as pd\n",
    "import numpy as np\n",
    "import requests\n",
    "import os\n",
    "import csv\n",
    "import json\n",
    "from pprint import pprint\n",
    "\n",
    "from config import nom_api"
   ]
  },
  {
   "cell_type": "code",
   "execution_count": null,
   "metadata": {},
   "outputs": [],
   "source": [
    "base_url = \"https://api.nomics.com/v1/\"\n",
    "ticker = \"btc\"\n",
    "coin_list =[\"BTC\",\"ETH\",\"LTC\",\"BNB\",\"BCH\"]\n",
    "\n",
    "currency_url = (f\"{base_url}currencies/ticker?key={nom_api}&ids=BTC,ETH,LTC,BNB,BCH\")\n",
    "\n",
    "response = requests.get(currency_url,verify = False).json()\n",
    "print(json.dumps(response,indent = 4, sort_keys = True))\n",
    "\n",
    "btc_vol_1d = float(response[0][\"1d\"][\"volume\"])\n",
    "btc_vol_365d = float(response[0][\"365d\"][\"volume\"])\n",
    "\n",
    "\n",
    "print(f\"BTC 1d Volume is: {btc_vol_1d}\")\n",
    "print(f\"BTC 365d Volume is: {btc_vol_365d}\")\n",
    "print(f\"BTC 1 year volume change is: {btc_vol_365d - btc_vol_1d}\")\n",
    "#print()"
   ]
  },
  {
   "cell_type": "code",
   "execution_count": null,
   "metadata": {},
   "outputs": [],
   "source": [
    "vol=[]\n",
    "price = []\n",
    "volume = []\n",
    "coin_id=[]\n",
    "price_pct=[]\n",
    "\n",
    "url = (f\"{base_url}currencies/ticker?key={nom_api}&ids=\")\n",
    "\n",
    "for coins in coin_list:\n",
    "    response = requests.get(url + coins, verify = False).json()\n",
    "    coin_id.append(response[0][\"currency\"])\n",
    "    price.append(response[0][\"ytd\"][\"price_change\"])\n",
    "    vol.append(response[0][\"ytd\"][\"volume\"])\n",
    "    price_pct.append(response[0][\"ytd\"][\"price_change_pct\"])\n",
    "    #vol.append([response[\"1d\"][\"volume\"]-response[\"365d\"][\"volume\"]])\n",
    "    \n",
    "print(price)\n",
    "print(coin_id)\n",
    "print(vol)"
   ]
  },
  {
   "cell_type": "code",
   "execution_count": null,
   "metadata": {},
   "outputs": [],
   "source": [
    "coin_df = pd.DataFrame({\n",
    "    \"Ticker\": coin_id,\n",
    "    \"YTD Price Change\": price,\n",
    "    \"YTD Price Change %\": price_pct,\n",
    "    \"YTD Volume\":vol\n",
    "})\n",
    "coin_df"
   ]
  },
  {
   "cell_type": "code",
   "execution_count": null,
   "metadata": {},
   "outputs": [],
   "source": [
    "#coin_df.plot(\"Ticker\",\"YTD Price Change %\", kind = 'bar')\n",
    "coin_df.dtypes"
   ]
  },
  {
   "cell_type": "code",
   "execution_count": null,
   "metadata": {},
   "outputs": [],
   "source": []
  }
 ],
 "metadata": {
  "kernelspec": {
   "display_name": "Python [conda env:PythonData] *",
   "language": "python",
   "name": "conda-env-PythonData-py"
  },
  "language_info": {
   "codemirror_mode": {
    "name": "ipython",
    "version": 3
   },
   "file_extension": ".py",
   "mimetype": "text/x-python",
   "name": "python",
   "nbconvert_exporter": "python",
   "pygments_lexer": "ipython3",
   "version": "3.7.1"
  }
 },
 "nbformat": 4,
 "nbformat_minor": 4
}
